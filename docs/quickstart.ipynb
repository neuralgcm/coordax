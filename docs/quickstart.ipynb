{
  "cells": [
    {
      "metadata": {},
      "id": "b2d72OVAePS3",
      "cell_type": "markdown",
      "source": [
        "# Quickstart guide\n",
        "\n",
        "Coordax is a Python library for scientific computing in JAX. It enables users to define computation on `Field` objects that associate axes of JAX/NumPy arrays with coordinate axes.\n",
        "\n",
        "This tutorial provides a quick introduction to the main features:\n",
        "\n",
        "* Coordax uses `Field` to label *Array* objects with coordinates\n",
        "* Coordax enables computation on locally positional axes using `cmap` transform\n",
        "* Coordax is compatbile with JAX transformations\n",
        "* Coordax can be converted to and from Xarray for serialization and data analysis"
      ]
    },
    {
      "metadata": {},
      "id": "OPXD4gV_s2F9",
      "cell_type": "markdown",
      "source": [
        "We'll start with standard imports:"
      ]
    },
    {
      "metadata": {},
      "id": "KcWWqX4nQZSV",
      "cell_type": "code",
      "source": [
        "import coordax as cx\n",
        "import jax\n",
        "import jax.numpy as jnp\n",
        "import numpy as np"
      ],
      "outputs": [],
      "execution_count": null
    },
    {
      "metadata": {},
      "id": "pQojlD_wDK0F",
      "cell_type": "markdown",
      "source": [
        "And some small formatting improvements:"
      ]
    },
    {
      "metadata": {
        "tags": [
          "hide-cell"
        ]
      },
      "id": "dP_Sf_B7xwov",
      "cell_type": "code",
      "source": [
        "# small formatting improvements\n",
        "import contextlib\n",
        "import logging\n",
        "\n",
        "logging.getLogger('jax._src.lib.xla_bridge').addFilter(lambda _: False)\n",
        "np.set_printoptions(threshold=100)\n",
        "\n",
        "@contextlib.contextmanager\n",
        "def print_error():\n",
        "  try:\n",
        "    yield\n",
        "  except Exception as e:\n",
        "    print(f'{type(e).__name__}: {e}')"
      ],
      "outputs": [],
      "execution_count": null
    },
    {
      "metadata": {},
      "id": "j38KK-y6MUXS",
      "cell_type": "markdown",
      "source": [
        "## cx.Field\n",
        "\n",
        "**Key concepts:**\n",
        "* `Field` wraps *Array* data with coordinates to label data dimensions\n",
        "* `Field` methods `tag`/`untag` are used to attach/remove coordinates\n",
        "* *Array* dimensions labeled with `None` correspond to locally *positional* axes\n",
        "* Labeled dimensions facilitate reordering and broadcasting of underlying data\n",
        "* Coordinates are checked for consistency to catch alignment errors"
      ]
    },
    {
      "metadata": {},
      "id": "8DhArU_hSOuk",
      "cell_type": "markdown",
      "source": [
        "### Instantiating `Field`\n",
        "\n",
        "There are two ways to instantiate a `Field` object:\n",
        "1. Default constructor: `Field(data: Array, dims: tuple[str, ...], axes: dict[str, Coordinate])`\n",
        "2. Wrap helper method: `cx.wrap(data: Array, *coordinates: str | Coordinate)`\n",
        "\n",
        "The later is just a syntactic sugar that ensures that dimension names and coordinate names are compatible and hence is the preferred way to instantiate `Field`."
      ]
    },
    {
      "metadata": {},
      "id": "FR6hqMjIRw8m",
      "cell_type": "code",
      "source": [
        "# Example data.\n",
        "data_shape = (50, 20)\n",
        "rng = np.random.RandomState(0)\n",
        "field_data = rng.uniform(size=data_shape)\n",
        "\n",
        "# Example coordinates.\n",
        "x_grid = cx.DummyAxis('x', data_shape[0])\n",
        "y_grid = cx.LabeledAxis('y', np.arange(data_shape[1]))"
      ],
      "outputs": [],
      "execution_count": null
    },
    {
      "metadata": {},
      "id": "tZd_pIuIRyZS",
      "cell_type": "code",
      "source": [
        "field_via_init = cx.Field(field_data, ('x', 'y'), {'x': x_grid, 'y': y_grid})\n",
        "field_via_wrap = cx.wrap(field_data, x_grid, y_grid)\n",
        "field_via_init, field_via_wrap"
      ],
      "outputs": [],
      "execution_count": null
    },
    {
      "metadata": {},
      "id": "Zpql0PwAuoYk",
      "cell_type": "markdown",
      "source": [
        "The core `Field` attributes are `data`, `dims` and `axes`:"
      ]
    },
    {
      "metadata": {},
      "id": "RdvsjaJgu25C",
      "cell_type": "code",
      "source": [
        "field_via_init.data"
      ],
      "outputs": [],
      "execution_count": null
    },
    {
      "metadata": {},
      "id": "IQsqylyau4Y6",
      "cell_type": "code",
      "source": [
        "field_via_init.dims"
      ],
      "outputs": [],
      "execution_count": null
    },
    {
      "metadata": {},
      "id": "VOWgoeDAu5Yz",
      "cell_type": "code",
      "source": [
        "field_via_init.axes"
      ],
      "outputs": [],
      "execution_count": null
    },
    {
      "metadata": {},
      "id": "o0wFMlUeTGAN",
      "cell_type": "markdown",
      "source": [
        "To specify an axis of a `Field` as unlabeled, use `None` rather than a `Coordinate` object. Strings can also be passed, to indicate a `cx.DummyAxis` object of appropriate size:"
      ]
    },
    {
      "metadata": {},
      "id": "qb9vEYDPT1-2",
      "cell_type": "code",
      "source": [
        "partially_labeled_field = cx.wrap(field_data, 'x', None)\n",
        "partially_labeled_field"
      ],
      "outputs": [],
      "execution_count": null
    },
    {
      "metadata": {},
      "id": "Rdm8Pdr3UDwh",
      "cell_type": "markdown",
      "source": [
        "When some of the axes of a `Field` are not labeled, we say that the Field has positional axes. Positional axes play a crucial role in how computation is performed on `Field` objects.\n",
        "\n",
        "The overall shape of a `Field` is partitioned into `positional_shape` and `named_shape` properties, indicating the sizes of axes associated with each."
      ]
    },
    {
      "metadata": {},
      "id": "D-qQSoOVUDOl",
      "cell_type": "code",
      "source": [
        "print(f'{field_via_wrap.shape=}')\n",
        "print(f'{field_via_wrap.positional_shape=}')\n",
        "print(f'{field_via_wrap.named_shape=}')\n",
        "\n",
        "print(f'{partially_labeled_field.shape=}')\n",
        "print(f'{partially_labeled_field.positional_shape=}')\n",
        "print(f'{partially_labeled_field.named_shape=}')"
      ],
      "outputs": [],
      "execution_count": null
    },
    {
      "metadata": {},
      "id": "Jno_X73rS11f",
      "cell_type": "markdown",
      "source": [
        "### Updating coordinate labels using `tag/untag`\n",
        "\n",
        "To instantiate `Field` with a different set of coordinate labels from another `Field`, it is convenient to use `tag/untag` methods.\n",
        "\n",
        "* `Field.tag` can be used on a `Field` to label all existing positional axes\n",
        "* `Field.tag` can be used on a fully labeled `Field` to make provided dimensions positions\n",
        "\n",
        "These restrictions are necessary to avoid ambiguity in which positional axis is being tagged or in which order should untagged axes appear in the `positional_shape`. Enforcing the above rules removes such ambiguity."
      ]
    },
    {
      "metadata": {},
      "id": "gZH6Zj112ZPe",
      "cell_type": "code",
      "source": [
        "another_partially_labeled_field = field_via_wrap.untag('y')\n",
        "labeled_field = partially_labeled_field.tag(y_grid)  # same as field_via_wrap\n",
        "cx.testing.assert_fields_equal(field_via_wrap, labeled_field)"
      ],
      "outputs": [],
      "execution_count": null
    },
    {
      "metadata": {},
      "id": "luO9uRfc4Ug7",
      "cell_type": "markdown",
      "source": [
        "When dealing with a pytee of `Field` objects, it may be desired to relabel all entries. This can be done using simple helpers `cx.tag` and `cx.untag`."
      ]
    },
    {
      "metadata": {},
      "id": "HXcWLCvy45Yi",
      "cell_type": "code",
      "source": [
        "tree = {\n",
        "    'a': cx.wrap(np.ones((1, 1, 1)), 'x', 'y', 'z'),\n",
        "    'tuple': (cx.wrap(np.array([np.pi]), 'x'), cx.wrap(np.array([np.e]), 'x')),\n",
        "}\n",
        "tree"
      ],
      "outputs": [],
      "execution_count": null
    },
    {
      "metadata": {},
      "id": "5pvOXHAQ6gIa",
      "cell_type": "code",
      "source": [
        "cx.untag(tree, 'x')"
      ],
      "outputs": [],
      "execution_count": null
    },
    {
      "metadata": {},
      "id": "joQVlNM8-NlA",
      "cell_type": "code",
      "source": [
        "cx.tag(cx.untag(tree, 'x'), 'batch')"
      ],
      "outputs": [],
      "execution_count": null
    },
    {
      "metadata": {},
      "id": "qjpDZa99-qiq",
      "cell_type": "markdown",
      "source": [
        "Late we will see that a common pattern with `coordax` is to:\n",
        "1. untag dimension on which we want to operate\n",
        "2. perform the desired computation\n",
        "3. retag the result with approriate coordinates"
      ]
    },
    {
      "metadata": {},
      "id": "-Izer7fq_A_X",
      "cell_type": "markdown",
      "source": [
        "### Reordering, broadcasting and basic operations on `Field`\n",
        "\n",
        "Reordering and broadcasting of `Field` objects can be done using their coordinates or dimension names."
      ]
    },
    {
      "metadata": {},
      "id": "Ewm53wS5_1FR",
      "cell_type": "code",
      "source": [
        "f_xy = cx.wrap(np.arange(2 * 3).reshape((2, 3)), 'x', 'y')\n",
        "f_yx = f_xy.order_as('y', 'x')  # transpose to a new order.\n",
        "print(f'{f_xy.dims=}, {f_yx.dims=}')"
      ],
      "outputs": [],
      "execution_count": null
    },
    {
      "metadata": {},
      "id": "KbCG8hDO_eRR",
      "cell_type": "code",
      "source": [
        "f = cx.wrap(np.ones((4, 7)), 'x', 'y')\n",
        "arange = cx.wrap(np.arange(4), 'x')\n",
        "b_arange = arange.broadcast_like(f)  # broadcast to another\n",
        "b_arange"
      ],
      "outputs": [],
      "execution_count": null
    },
    {
      "metadata": {},
      "id": "7ADMdNqK0SYJ",
      "cell_type": "markdown",
      "source": [
        "Ellipsis can also be used in `tag()` and `order_as()` to indicate \"all other dimensions:\""
      ]
    },
    {
      "metadata": {},
      "id": "VXWIdfNn0SDh",
      "cell_type": "code",
      "source": [
        "f = cx.wrap(np.ones((1, 2, 4, 3)), 'x', 'y', 'z', 'q')\n",
        "f_qy = f.order_as('q', 'y', ...)\n",
        "f_xq = f.untag('y', 'z')\n",
        "another_f_xq = cx.wrap(np.ones((1, 2, 4, 3)), 'x', ..., 'q')\n",
        "assert another_f_xq.dims == f_xq.dims\n",
        "f_qy, f_xq"
      ],
      "outputs": [],
      "execution_count": null
    },
    {
      "metadata": {},
      "id": "Ol7tJ8FnBE1Q",
      "cell_type": "markdown",
      "source": [
        "`Field` also supports a small set of operations directly, including arithmetic with python numeric types (e.g., scaling):"
      ]
    },
    {
      "metadata": {},
      "id": "coIzsLaPBE-G",
      "cell_type": "code",
      "source": [
        "cx.wrap(np.arange(5), 'x') * 2"
      ],
      "outputs": [],
      "execution_count": null
    },
    {
      "metadata": {},
      "id": "o66qFu-YBk9q",
      "cell_type": "markdown",
      "source": [
        "### Coordinate checks\n",
        "\n",
        "Most manipulations on `Field` objects require exact coordinate alignment. When employing more complex coordinate objects that carry information beyond name and shape, this provides a powerful check to catch alignment and coordinate mismatch errors. In this block we will use standard `cx.SizeAxis` and `cx.LabeledAxis` coordinates to demonstrate alignment checks and will show how to implement custom coordinates in the following section.\n",
        "\n",
        "This coordinate equality rule is relaxed for arguments passed to `tag`, `untag`, `order_as` etc. Passing a dimension name (`str`) is considered sufficient to express the user intent (assuming a coordinate with matching name is present)."
      ]
    },
    {
      "metadata": {
        "tags": [
          "raises-exception"
        ]
      },
      "id": "oLbG-6spUeUn",
      "cell_type": "code",
      "source": [
        "xc, yc = cx.SizedAxis('x', 2), cx.SizedAxis('y', 3)\n",
        "f_xy = cx.wrap(np.arange(xc.size * yc.size).reshape((xc.size, yc.size)), xc, yc)\n",
        "\n",
        "f_yx = f_xy.order_as(yc, xc)  # works - we use same coordinates.\n",
        "also_f_yx = f_xy.order_as('y', 'x')  # also works\n",
        "\n",
        "x_grid = cx.LabeledAxis('x', np.linspace(0, np.pi, 2))\n",
        "y_grid = cx.LabeledAxis('y', np.linspace(0, 1, 3))\n",
        "with print_error():\n",
        "  f_xy.order_as(y_grid, x_grid)  # raises, coordinates are different"
      ],
      "outputs": [],
      "execution_count": 56
    },
    {
      "metadata": {},
      "id": "PQdQ4cKyWVgG",
      "cell_type": "markdown",
      "source": [
        "`cx.LabeledAxis` equality includes a check on coordinate ticks, so if coordinates differ in the exact placement of the tick values, an error is raised. This is particularly relevant for numerical methods where fields could have offsets within computational cells."
      ]
    },
    {
      "metadata": {
        "tags": [
          "raises-exception"
        ]
      },
      "id": "qNeLcG3nWvNg",
      "cell_type": "code",
      "source": [
        "x_bounds, dx = np.linspace(0, 2 * np.pi, 10, endpoint=False, retstep=True)\n",
        "x_centers = np.linspace(dx / 2, 2 * np.pi - dx / 2, 10)\n",
        "x_grid_bounds = cx.LabeledAxis('x', x_bounds)\n",
        "x_grid_centers = cx.LabeledAxis('x', x_centers)\n",
        "\n",
        "f = cx.wrap(np.ones(10), x_grid_centers)\n",
        "\n",
        "assert x_grid_bounds.dims == x_grid_centers.dims  # dims are the same.\n",
        "assert x_grid_bounds.shape == x_grid_centers.shape  # same, compatible shape.\n",
        "assert x_grid_bounds != x_grid_centers  # not equal, since tick values differ.\n",
        "\n",
        "with print_error():\n",
        "  f.untag(x_grid_bounds)  # raises, coordinates are different"
      ],
      "outputs": [],
      "execution_count": null
    },
    {
      "metadata": {},
      "id": "5WxbqQfsYglw",
      "cell_type": "markdown",
      "source": [
        "## cx.Coordinate\n",
        "\n",
        "**Key concepts**\n",
        "* `Coordinate` objects store coordinate-specific metadata and methods\n",
        "* `Coordinate` classes are static [pytree nodes](https://docs.jax.dev/en/latest/working-with-pytrees.html#custom-pytree-nodes) which enable compile-time checks\n",
        "* Users can easily define custom coordinates"
      ]
    },
    {
      "metadata": {},
      "id": "ze7ydqqqxJZ3",
      "cell_type": "markdown",
      "source": [
        "`Coordinate` objects represent one or more *Array* axes, specifying their `names`, `shape` and potentially providing additional values and methods associated with the coordinate. Their core properties include:\n",
        "* `dims` - tuple of dimension names\n",
        "* `shape` - shape of the coordinate object\n",
        "* `fields` - holds named supporting values\n",
        "\n",
        "Lets defined a custom coordinate class:"
      ]
    },
    {
      "metadata": {},
      "id": "gWLYwKfFaLlh",
      "cell_type": "code",
      "source": [
        "import dataclasses\n",
        "\n",
        "@jax.tree_util.register_static\n",
        "@dataclasses.dataclass(frozen=True)\n",
        "class UniformAxis(cx.Coordinate):\n",
        "  \"\"\"Cell centered coordinate with uniform discretization of (0, `length`).\"\"\"\n",
        "\n",
        "  name: str\n",
        "  size: int\n",
        "  length: float\n",
        "\n",
        "  @property\n",
        "  def dims(self):\n",
        "    return (self.name,)\n",
        "\n",
        "  @property\n",
        "  def shape(self) -\u003e tuple[int, ...]:\n",
        "    return (self.size,)\n",
        "\n",
        "  @property\n",
        "  def fields(self):\n",
        "    delta = self.length / self.size\n",
        "    cell_centers = np.linspace(delta / 2, self.length - delta / 2, self.size)\n",
        "    return {self.name: cx.wrap(cell_centers, self)}"
      ],
      "outputs": [],
      "execution_count": null
    },
    {
      "metadata": {},
      "id": "T1O_mGecXuJW",
      "cell_type": "code",
      "source": [
        "z_centers = UniformAxis('z', 10, np.pi * 2)\n",
        "print(z_centers)\n",
        "z_centers.fields['z']  # access to supporting value from `@fields`."
      ],
      "outputs": [],
      "execution_count": null
    },
    {
      "metadata": {},
      "id": "QT5nJ3Jfc6vr",
      "cell_type": "markdown",
      "source": [
        "In general, `Coordinate` can specify multiple dimensions. One special instance of such coordinate is a `CartesianProduct`, that simply bundles multiple `Coordinate` primitives together. It is more common to instantiate `CartesianProduct` using `cx.compose_coordinates` helper function."
      ]
    },
    {
      "metadata": {},
      "id": "0PDnHeVCgjaz",
      "cell_type": "code",
      "source": [
        "x_axis, y_axis = UniformAxis('x', 6, np.pi), UniformAxis('y', 7, np.pi)\n",
        "xy_coord = cx.compose_coordinates(x_axis, y_axis)\n",
        "print(xy_coord)\n",
        "print(f'{xy_coord.dims=}')\n",
        "print(f'{xy_coord.shape=}')"
      ],
      "outputs": [],
      "execution_count": null
    },
    {
      "metadata": {},
      "id": "PGi43jlavdqT",
      "cell_type": "markdown",
      "source": [
        "Multi-dimensional coordinates can be used the same way to `wrap`, `tag`, `untag`, etc."
      ]
    },
    {
      "metadata": {},
      "id": "pzpuy_D_vc90",
      "cell_type": "code",
      "source": [
        "x_axis, y_axis = UniformAxis('x', 6, np.pi), UniformAxis('y', 7, np.pi)\n",
        "xy_coord = cx.compose_coordinates(x_axis, y_axis)\n",
        "f = cx.wrap(np.ones((3, 6, 7)), 'batch', xy_coord)\n",
        "print(f'{f.dims=}')\n",
        "print(f'{f.untag(xy_coord).dims=}')"
      ],
      "outputs": [],
      "execution_count": null
    },
    {
      "metadata": {},
      "id": "XceAzNmNwE2Y",
      "cell_type": "markdown",
      "source": [
        "## Computation on locally positional axes with (coordinate map) `cmap`\n",
        "\n",
        "**Key concepts:**\n",
        "* `cmap` plays a central role in connecting dimension-aware representation to array functions\n",
        "* `cmap` transforms function `fn` operating on `Array` inputs to support `Field` args\n",
        "* Resulting function applies `fn` over *positional axes* and vectorizes over *named axes*\n",
        "* Return values have axis order determined by the order of appearance or `out_axes` kwarg\n",
        "* Binary/unary operations on `Field` are implemented using `cmap`"
      ]
    },
    {
      "metadata": {},
      "id": "S_qSqge31kqQ",
      "cell_type": "markdown",
      "source": [
        "If we have a function working with `Array` inputs that we want to apply to `Field` data, we can use the `cmap` to transform it to be compatible with `Field` arguments. Let's start with standard `jnp.add`:"
      ]
    },
    {
      "metadata": {},
      "id": "v6CTDNiO4wU_",
      "cell_type": "code",
      "source": [
        "rng = np.random.RandomState(0)\n",
        "f_rand = cx.wrap(rng.uniform(size=3), 'x')\n",
        "f_arange = cx.wrap(np.arange(3), 'x')\n",
        "fs_added = cx.cmap(jnp.add)(f_rand, f_arange)\n",
        "fs_added"
      ],
      "outputs": [],
      "execution_count": null
    },
    {
      "metadata": {},
      "id": "6Wo7BK6L5gBH",
      "cell_type": "markdown",
      "source": [
        "In the example above, `jnp.add` was vectorized over named dimension 'x' and applied to the remaining (empty) positional axes. This is reflected in the 'x' annotation of the output - vectorization over named axes preserves their coordinates.\n",
        "\n",
        "If we pass inputs with `x` dimension untagged, the transformed function will applied to 1d arrays corresponding to the positional shape. In the case of `jnp.add`, the numerical result is the same since `jnp.add == jax.vmap(jnp.add)`."
      ]
    },
    {
      "metadata": {},
      "id": "Hjq05aB86GdX",
      "cell_type": "code",
      "source": [
        "added = cx.cmap(jnp.add)(f_rand.untag('x'), f_arange.untag('x'))\n",
        "assert (added.data == fs_added.data).all()\n",
        "added"
      ],
      "outputs": [],
      "execution_count": null
    },
    {
      "metadata": {},
      "id": "Th3a4yQM7Ni3",
      "cell_type": "markdown",
      "source": [
        "Note that `added` no longer has 'x' coordinate, since inputs had no coordinates.\n",
        "\n",
        "Let's look at a more complex example of computing FFT over a single axis with multi-dimensional inputs"
      ]
    },
    {
      "metadata": {},
      "id": "QC9yNOvT9Ks4",
      "cell_type": "code",
      "source": [
        "def fft(x):\n",
        "  assert x.ndim == 1  # make sure method is applied to vectors.\n",
        "  return jnp.fft.fft(x)\n",
        "\n",
        "xc = UniformAxis('x', 16, 2 * np.pi)\n",
        "rng = np.random.RandomState(0)\n",
        "f_x = cx.wrap(rng.uniform(size=(3, 16, 4)), 'batch', xc, 'z')\n",
        "\n",
        "f_kx = cx.cmap(fft)(f_x.untag(xc))\n",
        "f_kx"
      ],
      "outputs": [],
      "execution_count": null
    },
    {
      "metadata": {},
      "id": "S8um3dqy_BAn",
      "cell_type": "markdown",
      "source": [
        "The returned `f_kx` contains values where each 'x' slice was transformed using our function `fft`.\n",
        "\n",
        "Note that `f_kx` has dimensions (None, 'batch', 'z'). By default, all named dimensions are vectorized and placed at the end of the result in the order in which they appear, with positional dimensions placed at the beginning of the result.\n",
        "\n",
        "The resulting axis order can be explicitly controlled via `out_axes` argument in `cmap`, which takes a dictionary mapping axis names to their output axis indices.\n",
        "\n",
        "Let's look at a few more example to get a feel for this behavior:"
      ]
    },
    {
      "metadata": {},
      "id": "PBdlz1abAiXa",
      "cell_type": "code",
      "source": [
        "out = cx.cmap(fft)(f_x.order_as('z', ...).untag(xc))\n",
        "assert out.dims == (None, 'z', 'batch')  # 'z', 'batch' is order of appearance.\n",
        "\n",
        "out = cx.cmap(fft, out_axes={'batch': 0, 'z': 2})(f_x.untag(xc))\n",
        "assert out.dims == ('batch', None, 'z')  # explicitly indicate out_axes order."
      ],
      "outputs": [],
      "execution_count": null
    },
    {
      "metadata": {},
      "id": "wt6AeKudBVCz",
      "cell_type": "markdown",
      "source": [
        "In the examples above `None` corresponds to the positional axis returned by `fft`. Other choice of function could reduce over the input dimension (e.g. if we replace `jnp.fft.fft` with `jnp.sum`) or could create more positional axes (e.g. `jnp.cov`). This would be reflected in the positional shape of the output (with no positional axes for `jnp.sum` and two for `jnp.cov`).\n",
        "\n",
        "This mechanics forms the primary design pattern of locally positional axes computation:\n",
        "1. Desired axes are exposed using `untag`\n",
        "2. Computation is performed using `cx.cmap(fn, ...)(untagged_inputs)`\n",
        "3. New coordinates are added using `tag` (if needed)"
      ]
    },
    {
      "metadata": {},
      "id": "nqjPk3PqEW_W",
      "cell_type": "code",
      "source": [
        "f_x = f_x.untag(xc)\n",
        "f_kx = cx.cmap(fft, out_axes=f_x.named_axes)(f_x).tag('kx')\n",
        "f_kx"
      ],
      "outputs": [],
      "execution_count": null
    },
    {
      "metadata": {},
      "id": "zD-NDRbXErrd",
      "cell_type": "markdown",
      "source": [
        "### Transforming functions with multiple arguments\n",
        "\n",
        "`cmap` supports transforming primitives that involve multiple inputs/outputs (in fact we have already looked at the `jnp.add` example). This provides a convenient mechanism for automatic vectorization based on function inputs, but lack of care can lead to unexpected results.\n",
        "\n",
        "Lets consider computing log likelihood (and log pdf) of a sample predicted by a model. Our function would need to accept a prediction sample and parameters of a distribution."
      ]
    },
    {
      "metadata": {},
      "id": "dBObCVypG-n6",
      "cell_type": "code",
      "source": [
        "import jax.scipy.stats as jsp_stats\n",
        "\n",
        "def log_likelihood(sample, mean, std_dev):\n",
        "  log_pdf = jsp_stats.norm.logpdf(sample, loc=mean, scale=std_dev)\n",
        "  return jnp.sum(log_pdf), log_pdf\n",
        "\n",
        "samples_data = jax.random.normal(jax.random.key(0), shape=(10, 3))\n",
        "samples_data = samples_data * jnp.arange(10)[:, None] + jnp.arange(10)[:, None]\n",
        "samples = cx.wrap(samples_data, 'batch', 'x')\n",
        "\n",
        "means = jnp.ones(3) * 2  # parameters of distribution\n",
        "std_dev = jnp.array([1.9, 2.0, 2.1])\n",
        "inputs = samples.untag('x')\n",
        "ll, log_pdf = cx.cmap(log_likelihood)(inputs, means, std_dev)\n",
        "ll, log_pdf"
      ],
      "outputs": [],
      "execution_count": null
    },
    {
      "metadata": {},
      "id": "yhOKt_PNLptR",
      "cell_type": "markdown",
      "source": [
        "In the example above we passed in jax.Array inputs for parameters of the distribution. We could obtain the same result by wrapping those arguments into `Field`:"
      ]
    },
    {
      "metadata": {},
      "id": "vT7SqyFtLpjZ",
      "cell_type": "code",
      "source": [
        "cx.cmap(log_likelihood)(inputs, cx.wrap(means), cx.wrap(std_dev))"
      ],
      "outputs": [],
      "execution_count": null
    },
    {
      "metadata": {},
      "id": "vfVmF6uSMm7v",
      "cell_type": "markdown",
      "source": [
        "However, if we accidentally pass argument with named dimension attached, the whole computation will automatically vectorize over it!"
      ]
    },
    {
      "metadata": {},
      "id": "sUWrmjp7Mmc0",
      "cell_type": "code",
      "source": [
        "cx.cmap(log_likelihood)(inputs, means, cx.wrap(std_dev, 'x_axis'))"
      ],
      "outputs": [],
      "execution_count": null
    },
    {
      "metadata": {},
      "id": "R7AUnkE-NOjV",
      "cell_type": "markdown",
      "source": [
        "### Arithmetic operations on `Field`\n",
        "\n",
        "`Field` class implements default methods like addition, multiplication, division. These methods transform standard array methods using `cmap` and hence automatically align coordinates and broadcast data where necessary:"
      ]
    },
    {
      "metadata": {},
      "id": "bfmBv7GfNoZj",
      "cell_type": "code",
      "source": [
        "x_grid = UniformAxis('x', 5, 2*np.pi)\n",
        "y_grid = UniformAxis('y', 3, 2*np.pi)\n",
        "\n",
        "zero_field = cx.wrap(np.zeros((5, 3)), x_grid, y_grid)\n",
        "ones_field = cx.wrap(np.ones((5, 3)), x_grid, y_grid)\n",
        "\n",
        "zero_field + ones_field, zero_field * ones_field"
      ],
      "outputs": [],
      "execution_count": null
    },
    {
      "metadata": {},
      "id": "-TL4s-3TOLc-",
      "cell_type": "code",
      "source": [
        "zero_field + ones_field.order_as('y', 'x')  # still works due to auto alignment"
      ],
      "outputs": [],
      "execution_count": null
    },
    {
      "metadata": {},
      "id": "a_6VDe2iOWie",
      "cell_type": "code",
      "source": [
        "zero_field.order_as('y', 'x') + ones_field  # works, but note y, x result order."
      ],
      "outputs": [],
      "execution_count": null
    },
    {
      "metadata": {},
      "id": "TCZxnrAiOi-9",
      "cell_type": "markdown",
      "source": [
        "Vectorization over named dimension results in effective broadcasting:"
      ]
    },
    {
      "metadata": {},
      "id": "jfUUTwtUOxJR",
      "cell_type": "code",
      "source": [
        "zero_field + cx.wrap(np.arange(zero_field.named_shape['x']), 'x')"
      ],
      "outputs": [],
      "execution_count": null
    },
    {
      "metadata": {},
      "id": "rQAwe4RmPPAA",
      "cell_type": "markdown",
      "source": [
        "The same gotcha about output axis order applies to arithmetic operations. For instance adding `Field` instances with trailing positional axis will move them the the first dimension as in the case of `cmap(jnp.add)`:"
      ]
    },
    {
      "metadata": {},
      "id": "JqBmestkPOuO",
      "cell_type": "code",
      "source": [
        "addition = zero_field.untag('y') + ones_field.untag('y')\n",
        "addition  # Note how 'x' dim got moved to the end as the only vectorized axis."
      ],
      "outputs": [],
      "execution_count": null
    },
    {
      "metadata": {},
      "id": "vaZdn27NPBfY",
      "cell_type": "markdown",
      "source": [
        "## Compatibility with JAX transformations\n",
        "\n",
        "**Key concepts:**\n",
        "* `Field` is a pytree and is compatible with shape-preserving JAX transformation\n",
        "* `Field` with leading positional axes are compatible with shape-altering transformations"
      ]
    },
    {
      "metadata": {},
      "id": "q9olFghRSObR",
      "cell_type": "markdown",
      "source": [
        "Since `Field` is implemented as a pytree, operations like automatic differentiation, JIT are compatible out of the box."
      ]
    },
    {
      "metadata": {},
      "id": "R92-jnOXSZFl",
      "cell_type": "code",
      "source": [
        "def loss(x, y):\n",
        "  return cx.cmap(jnp.sum)((x - y)**2).data\n",
        "\n",
        "grad = jax.grad(loss)(cx.wrap(np.ones(5)), cx.wrap(np.zeros(5)))\n",
        "also_grad = jax.jit(jax.grad(loss))(cx.wrap(np.ones(5)), cx.wrap(np.zeros(5)))\n",
        "also_grad"
      ],
      "outputs": [],
      "execution_count": null
    },
    {
      "metadata": {},
      "id": "SeDJfJNTmAc8",
      "cell_type": "markdown",
      "source": [
        "Operations that modify the shape of the pytree leaves (e.g. `jax.vmap`, `jax.lax.scan`) are also allowed, as long as they do not violate the coordinates metadata. This requirement limits their application to `Field` instances over leading positional axes, which covers most common use-cases:\n",
        "\n",
        "1. `jax.vmap(fn_on_field)` - explicit batching\n",
        "2. `jax.lax.scan(fn, fields_to_scan_over)` - scanning over `Field` entries"
      ]
    },
    {
      "metadata": {},
      "id": "7mIkoLUCeZxZ",
      "cell_type": "markdown",
      "source": [
        "### Explicit vectorization with `jax.vmap`\n",
        "\n",
        "`cx.Field` is compatible with `jax.vmap`, as long as the leading dimension is unlabeled:"
      ]
    },
    {
      "metadata": {},
      "id": "VifBZMNpwb8r",
      "cell_type": "code",
      "source": [
        "data = np.arange(10).reshape((2, 5))\n",
        "f = cx.wrap(data, None, 'y')\n",
        "\n",
        "def identity_with_checks(x: cx.Field) -\u003e cx.Field:\n",
        "  assert x.dims == ('y',)  # under vmap `x` will be slices of `f` above.\n",
        "  return x\n",
        "\n",
        "same_as_f = jax.vmap(identity_with_checks)(f)\n",
        "same_as_f"
      ],
      "outputs": [],
      "execution_count": null
    },
    {
      "metadata": {},
      "id": "HABwQ0XSzKi5",
      "cell_type": "markdown",
      "source": [
        "`vmap` over a labeled dimension raises an error:"
      ]
    },
    {
      "metadata": {},
      "id": "R5zoJKXBzSOV",
      "cell_type": "code",
      "source": [
        "with print_error():\n",
        "  jax.vmap(identity_with_checks)(f.tag('x'))"
      ],
      "outputs": [],
      "execution_count": null
    },
    {
      "metadata": {},
      "id": "k8Sis68seToe",
      "cell_type": "markdown",
      "source": [
        "### Scanning over `Field` entries\n",
        "\n",
        "Similarly, `cx.Field` supports `jax.lax.scan`, as long all dimension scanned over are unlabeled:"
      ]
    },
    {
      "metadata": {
        "tags": [
          "raises-exception"
        ]
      },
      "id": "GUeWr71XxPE3",
      "cell_type": "code",
      "source": [
        "data = np.arange(10).reshape((2, 5))\n",
        "f = cx.wrap(data, None, 'y')\n",
        "\n",
        "def identity_body_with_checks(unused_c, x: cx.Field) -\u003e cx.Field:\n",
        "  assert x.dims == ('y',)  # under vmap `x` will be slices of `f` above.\n",
        "  return None, x\n",
        "\n",
        "_, same_as_f = jax.lax.scan(identity_body_with_checks, init=None, xs=f)\n",
        "same_as_f"
      ],
      "outputs": [],
      "execution_count": null
    },
    {
      "metadata": {},
      "id": "PfLF0cnuzb-z",
      "cell_type": "markdown",
      "source": [
        "And likewise, scanning over labeled dimensions raises an error:"
      ]
    },
    {
      "metadata": {
        "tags": [
          "raises-exception"
        ]
      },
      "id": "vzFIcl6azggC",
      "cell_type": "code",
      "source": [
        "with print_error():\n",
        "  jax.lax.scan(identity_body_with_checks, init=None, xs=f.tag('x'))"
      ],
      "outputs": [],
      "execution_count": null
    },
    {
      "metadata": {},
      "id": "vDgGtLw8zn7H",
      "cell_type": "markdown",
      "source": [
        "### `jax.tree.map` and `Field`"
      ]
    },
    {
      "metadata": {},
      "id": "eqN7PszmyEOr",
      "cell_type": "markdown",
      "source": [
        "There are two main options how `jax.tree.map` can interact with `Field` instances:\n",
        "1. Mapping over `Field` leaves by setting `is_leaf=cx.is_field` in the `map` function\n",
        "2. Mapping over underlying data using the default `map` behavior\n",
        "\n",
        "The former is a safe approach as metadata for each `Field` is explicitly taken care by the calling function.\n",
        "\n",
        "The later, especially when performing shape modifications, should be exercised with great care.\n",
        "\n",
        "Coordax implements shape checks to catch issues when the underlying data was modified to be no longer compatible with the coordinate labels, but erroneous transformations that result in Arrays of compatible shape cannot be identified in general.\n",
        "\n",
        "Similar to the `jax.vmap` and `jax.lax.scan`, functions that trim or insert leading positional dimensions are supported, e.g.,\n",
        "\n",
        "- Adding new leading positional shape using jax.tree.map:"
      ]
    },
    {
      "metadata": {},
      "id": "FA7S0zbekeBo",
      "cell_type": "code",
      "source": [
        "data = np.arange(10).reshape((2, 5))\n",
        "f = cx.wrap(data, 'x', 'y')\n",
        "# note that here tree.map operates on the underlying Array values.\n",
        "with_leading_axis = jax.tree.map(lambda x: x[np.newaxis, ...], f)\n",
        "with_leading_axis"
      ],
      "outputs": [],
      "execution_count": null
    },
    {
      "metadata": {},
      "id": "ER7jqE6EfDgG",
      "cell_type": "markdown",
      "source": [
        "- Trimming leading positional shape using jax.tree.map:"
      ]
    },
    {
      "metadata": {},
      "id": "3TpTkorgqHHS",
      "cell_type": "code",
      "source": [
        "data = np.arange(10).reshape((1, 2, 5))\n",
        "f = cx.wrap(data, None, 'x', 'y')\n",
        "without_leading_axis = jax.tree.map(lambda x: x[0, ...], f)\n",
        "without_leading_axis"
      ],
      "outputs": [],
      "execution_count": null
    },
    {
      "metadata": {},
      "id": "j90EdiYPfFzV",
      "cell_type": "markdown",
      "source": [
        "- Modifying data without changing shape using jax.tree.map:"
      ]
    },
    {
      "metadata": {},
      "id": "6N76DseH3El6",
      "cell_type": "code",
      "source": [
        "data = np.arange(4).reshape((1, 2, 2))\n",
        "f = cx.wrap(data, 'b', 'x', 'y')\n",
        "double_f = jax.tree.map(lambda x: x * 2, f)\n",
        "double_f"
      ],
      "outputs": [],
      "execution_count": null
    },
    {
      "metadata": {},
      "id": "H4C8gZPP3VCV",
      "cell_type": "markdown",
      "source": [
        "The function above, however, cannot be distinguished from an accidental transpose of the last 2 axes, which could result in out of sync coordinates (unless motivated by the desired computation):"
      ]
    },
    {
      "metadata": {},
      "id": "b_5Xmaqj3OHU",
      "cell_type": "code",
      "source": [
        "data = np.arange(4).reshape((2, 2))\n",
        "f = cx.wrap(data, 'x', 'y')\n",
        "yx_f_labeled_as_xy = jax.tree.map(lambda x: x.transpose(), f)\n",
        "yx_f_labeled_as_xy"
      ],
      "outputs": [],
      "execution_count": null
    },
    {
      "metadata": {},
      "id": "z09Od91d371s",
      "cell_type": "markdown",
      "source": [
        "## Lossless conversion between Xarray and Coordax\n",
        "**Key concepts:**\n",
        "* `to_xarray` and `from_xarray` functions allow conversion between `Field` and `xarray.DataArray` representations\n",
        "* Custom coordinates need to implement serialization methods\n",
        "\n",
        "\n",
        "Xarray is a tool of choice for many serialization and visualization standards. To make tapping into this ecosystem easy, Coordax provides easy and lossless (round-trip) conversion between `xarray.DataArray` and `Field`.\n",
        "\n",
        "Let's start with a simple example:\n"
      ]
    },
    {
      "metadata": {},
      "id": "9tRRfiNK-QK6",
      "cell_type": "code",
      "source": [
        "xc = cx.LabeledAxis('x', np.linspace(0, 1, 20))\n",
        "yc = cx.LabeledAxis('y', np.linspace(0, 1, 10))\n",
        "\n",
        "fn = lambda x, y: jnp.exp(-(x-0.5)**2) * jnp.sin(15 * x * y)\n",
        "f = cx.cmap(fn)(xc.fields['x'], yc.fields['y'])\n",
        "da = f.to_xarray()\n",
        "da.plot(x='x', y='y')"
      ],
      "outputs": [],
      "execution_count": null
    },
    {
      "metadata": {},
      "id": "3ualrvVXANPh",
      "cell_type": "markdown",
      "source": [
        "We can restore a `Field` object from this `DataArray` if we provide appropriate coordinate types to reconstruct the objects"
      ]
    },
    {
      "metadata": {},
      "id": "SfEoVdS9_NMs",
      "cell_type": "code",
      "source": [
        "restored = cx.Field.from_xarray(da, coord_types=[cx.LabeledAxis])"
      ],
      "outputs": [],
      "execution_count": null
    },
    {
      "metadata": {},
      "id": "p9IJHNm-AgRA",
      "cell_type": "markdown",
      "source": [
        "We can verify that we get `f` exactly back by checking that coordinates match and that data is the same"
      ]
    },
    {
      "metadata": {},
      "id": "PY2He4yq_7LC",
      "cell_type": "code",
      "source": [
        "assert cx.get_coordinate(f) == cx.get_coordinate(restored)\n",
        "np.testing.assert_allclose(restored.data, f.data)"
      ],
      "outputs": [],
      "execution_count": null
    },
    {
      "metadata": {},
      "id": "Yz25v3KvBBD4",
      "cell_type": "markdown",
      "source": [
        "### Serialization of custom coordinates\n",
        "\n",
        "How do we get back coordinates other than `cx.LabeledAxis`?\n",
        "\n",
        "To support restoration of different coordinate objects, `Coordinate` classes can implement custom `from_xarray` method. Then, by providing candidate classes to `Field.from_xarray` (via coord_types arg), an appropriate coordinate will be instantiated.\n",
        "\n",
        "Let us update `UniformAxis` to support conversion as an example:"
      ]
    },
    {
      "metadata": {},
      "id": "Jk51WdK-EiKx",
      "cell_type": "code",
      "source": [
        "from typing import Self\n",
        "import xarray\n",
        "\n",
        "@jax.tree_util.register_static\n",
        "class UpdatedUniformAxis(UniformAxis):\n",
        "  \"\"\"UniformAxis with from_xarray implemented.\"\"\"\n",
        "\n",
        "  @classmethod\n",
        "  def from_xarray(\n",
        "      cls, dims: tuple[str, ...], coords: xarray.Coordinates\n",
        "  ) -\u003e Self | cx.NoCoordinateMatch:\n",
        "    dim = dims[0]\n",
        "    name = dim  # attempt to use given name.\n",
        "    if coords[name].ndim != 1:\n",
        "      return cx.NoCoordinateMatch('UniformAxis coordinate is not a 1D array')\n",
        "\n",
        "    size = coords.sizes[name]\n",
        "    got = coords[name].data\n",
        "    steps = np.diff(got)\n",
        "    if not np.allclose(np.max(steps), np.min(steps), rtol=1e-6):\n",
        "      return cx.NoCoordinateMatch(\n",
        "          f'UniformAxis should have uniform spacing, got {steps=}'\n",
        "      )\n",
        "    step = steps[0]\n",
        "    if not np.allclose(got[0], step / 2):\n",
        "      return cx.NoCoordinateMatch(\n",
        "          f'UniformAxis ticks should start at {(step / 2)=}, {got[0]=}'\n",
        "      )\n",
        "    length = np.max(got) + step / 2\n",
        "    return cls(name=name, length=length, size=size)"
      ],
      "outputs": [],
      "execution_count": null
    },
    {
      "metadata": {},
      "id": "OkAZHQYqDKjS",
      "cell_type": "code",
      "source": [
        "xc = UpdatedUniformAxis('x', 20, 1)\n",
        "yc = UpdatedUniformAxis('y', 20, 1)\n",
        "bc = cx.SizedAxis('batch', 4)  # add another axis.\n",
        "\n",
        "fn = lambda x, y, b_idx: (jnp.exp(-(x-0.5)**2) * jnp.sin(15 * x * y))\n",
        "f = cx.cmap(fn)(xc.fields['x'], yc.fields['y'], cx.wrap(np.ones(bc.size), bc))\n",
        "da = f.to_xarray()\n",
        "da.isel(batch=0).plot(x='x', y='y')"
      ],
      "outputs": [],
      "execution_count": null
    },
    {
      "metadata": {},
      "id": "UCZG-7Q6Fd1s",
      "cell_type": "code",
      "source": [
        "da"
      ],
      "outputs": [],
      "execution_count": null
    },
    {
      "metadata": {},
      "id": "ZzQatkxPDWHc",
      "cell_type": "code",
      "source": [
        "restored = cx.Field.from_xarray(da, coord_types=[cx.SizedAxis, UpdatedUniformAxis])\n",
        "cx.get_coordinate(restored)"
      ],
      "outputs": [],
      "execution_count": null
    },
    {
      "metadata": {},
      "id": "kLE_WSkRGTBC",
      "cell_type": "markdown",
      "source": [
        "## Further sections\n",
        "\n",
        "Stay tuned for additional examples on:\n",
        "* `Field` deep dive (wrapping custom Array types and gotchas)\n",
        "* `Coordinate` deep dive (multidimensional coordinate primitives and inner working)\n",
        "* Sharp bits"
      ]
    }
  ],
  "metadata": {},
  "nbformat": 4,
  "nbformat_minor": 5
}
